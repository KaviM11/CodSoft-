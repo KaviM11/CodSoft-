{
 "cells": [
  {
   "cell_type": "markdown",
   "id": "44c78d1f",
   "metadata": {},
   "source": [
    "# Business Problem\n",
    "  to predict total sales by using features like money spent on marketing on indiviual channels\n",
    "  the data here is supervised\n",
    "  and it is a regression task\n",
    "  \n",
    "  \n",
    "  \n",
    "  • Sales prediction involves forecasting the amount of a product that customers will purchase, taking into account various factors such as advertising expenditure, target audience segmentation, and advertising platform selection.\n",
    "\n",
    "• In businesses that offer products or services, the role of a Data Scientist is crucial for predicting future sales. They utilize machine learning techniques in Python to analyze and interpret data, allowing them to make informed decisions regarding advertising costs. By leveraging these predictions, businesses can optimize their advertising strategies and maximize sales potential. Let's embark on the journey of sales prediction using machine learning in Python."
   ]
  },
  {
   "cell_type": "markdown",
   "id": "091c716d",
   "metadata": {},
   "source": [
    "##### importing the libraries"
   ]
  },
  {
   "cell_type": "code",
   "execution_count": 1,
   "id": "eef13d5e",
   "metadata": {},
   "outputs": [],
   "source": [
    "import numpy as np\n",
    "import pandas as pd\n",
    "import matplotlib.pyplot as plt\n",
    "import seaborn as sns"
   ]
  },
  {
   "cell_type": "markdown",
   "id": "6988c0b0",
   "metadata": {},
   "source": [
    "##### Loading the data"
   ]
  },
  {
   "cell_type": "code",
   "execution_count": 2,
   "id": "549b092f",
   "metadata": {},
   "outputs": [],
   "source": [
    "data=pd.read_csv('advertising.csv')"
   ]
  },
  {
   "cell_type": "code",
   "execution_count": 3,
   "id": "d9e0b27f",
   "metadata": {},
   "outputs": [
    {
     "data": {
      "text/html": [
       "<div>\n",
       "<style scoped>\n",
       "    .dataframe tbody tr th:only-of-type {\n",
       "        vertical-align: middle;\n",
       "    }\n",
       "\n",
       "    .dataframe tbody tr th {\n",
       "        vertical-align: top;\n",
       "    }\n",
       "\n",
       "    .dataframe thead th {\n",
       "        text-align: right;\n",
       "    }\n",
       "</style>\n",
       "<table border=\"1\" class=\"dataframe\">\n",
       "  <thead>\n",
       "    <tr style=\"text-align: right;\">\n",
       "      <th></th>\n",
       "      <th>TV</th>\n",
       "      <th>Radio</th>\n",
       "      <th>Newspaper</th>\n",
       "      <th>Sales</th>\n",
       "    </tr>\n",
       "  </thead>\n",
       "  <tbody>\n",
       "    <tr>\n",
       "      <th>0</th>\n",
       "      <td>230.1</td>\n",
       "      <td>37.8</td>\n",
       "      <td>69.2</td>\n",
       "      <td>22.1</td>\n",
       "    </tr>\n",
       "    <tr>\n",
       "      <th>1</th>\n",
       "      <td>44.5</td>\n",
       "      <td>39.3</td>\n",
       "      <td>45.1</td>\n",
       "      <td>10.4</td>\n",
       "    </tr>\n",
       "    <tr>\n",
       "      <th>2</th>\n",
       "      <td>17.2</td>\n",
       "      <td>45.9</td>\n",
       "      <td>69.3</td>\n",
       "      <td>12.0</td>\n",
       "    </tr>\n",
       "    <tr>\n",
       "      <th>3</th>\n",
       "      <td>151.5</td>\n",
       "      <td>41.3</td>\n",
       "      <td>58.5</td>\n",
       "      <td>16.5</td>\n",
       "    </tr>\n",
       "    <tr>\n",
       "      <th>4</th>\n",
       "      <td>180.8</td>\n",
       "      <td>10.8</td>\n",
       "      <td>58.4</td>\n",
       "      <td>17.9</td>\n",
       "    </tr>\n",
       "    <tr>\n",
       "      <th>...</th>\n",
       "      <td>...</td>\n",
       "      <td>...</td>\n",
       "      <td>...</td>\n",
       "      <td>...</td>\n",
       "    </tr>\n",
       "    <tr>\n",
       "      <th>195</th>\n",
       "      <td>38.2</td>\n",
       "      <td>3.7</td>\n",
       "      <td>13.8</td>\n",
       "      <td>7.6</td>\n",
       "    </tr>\n",
       "    <tr>\n",
       "      <th>196</th>\n",
       "      <td>94.2</td>\n",
       "      <td>4.9</td>\n",
       "      <td>8.1</td>\n",
       "      <td>14.0</td>\n",
       "    </tr>\n",
       "    <tr>\n",
       "      <th>197</th>\n",
       "      <td>177.0</td>\n",
       "      <td>9.3</td>\n",
       "      <td>6.4</td>\n",
       "      <td>14.8</td>\n",
       "    </tr>\n",
       "    <tr>\n",
       "      <th>198</th>\n",
       "      <td>283.6</td>\n",
       "      <td>42.0</td>\n",
       "      <td>66.2</td>\n",
       "      <td>25.5</td>\n",
       "    </tr>\n",
       "    <tr>\n",
       "      <th>199</th>\n",
       "      <td>232.1</td>\n",
       "      <td>8.6</td>\n",
       "      <td>8.7</td>\n",
       "      <td>18.4</td>\n",
       "    </tr>\n",
       "  </tbody>\n",
       "</table>\n",
       "<p>200 rows × 4 columns</p>\n",
       "</div>"
      ],
      "text/plain": [
       "        TV  Radio  Newspaper  Sales\n",
       "0    230.1   37.8       69.2   22.1\n",
       "1     44.5   39.3       45.1   10.4\n",
       "2     17.2   45.9       69.3   12.0\n",
       "3    151.5   41.3       58.5   16.5\n",
       "4    180.8   10.8       58.4   17.9\n",
       "..     ...    ...        ...    ...\n",
       "195   38.2    3.7       13.8    7.6\n",
       "196   94.2    4.9        8.1   14.0\n",
       "197  177.0    9.3        6.4   14.8\n",
       "198  283.6   42.0       66.2   25.5\n",
       "199  232.1    8.6        8.7   18.4\n",
       "\n",
       "[200 rows x 4 columns]"
      ]
     },
     "execution_count": 3,
     "metadata": {},
     "output_type": "execute_result"
    }
   ],
   "source": [
    "data"
   ]
  },
  {
   "cell_type": "markdown",
   "id": "b260942d",
   "metadata": {},
   "source": [
    "# Domain analysis"
   ]
  },
  {
   "cell_type": "raw",
   "id": "2cfe179f",
   "metadata": {},
   "source": [
    "Tv :- amount spend on tv ads\n",
    "Radio :- amount spend on radio\n",
    "Newspaper :-amount spend on newspaper\n",
    "Sales :- sales of product"
   ]
  },
  {
   "cell_type": "markdown",
   "id": "8b5eeb33",
   "metadata": {},
   "source": [
    "##### Basic checks"
   ]
  },
  {
   "cell_type": "code",
   "execution_count": 4,
   "id": "ebd1c101",
   "metadata": {},
   "outputs": [
    {
     "data": {
      "text/html": [
       "<div>\n",
       "<style scoped>\n",
       "    .dataframe tbody tr th:only-of-type {\n",
       "        vertical-align: middle;\n",
       "    }\n",
       "\n",
       "    .dataframe tbody tr th {\n",
       "        vertical-align: top;\n",
       "    }\n",
       "\n",
       "    .dataframe thead th {\n",
       "        text-align: right;\n",
       "    }\n",
       "</style>\n",
       "<table border=\"1\" class=\"dataframe\">\n",
       "  <thead>\n",
       "    <tr style=\"text-align: right;\">\n",
       "      <th></th>\n",
       "      <th>TV</th>\n",
       "      <th>Radio</th>\n",
       "      <th>Newspaper</th>\n",
       "      <th>Sales</th>\n",
       "    </tr>\n",
       "  </thead>\n",
       "  <tbody>\n",
       "    <tr>\n",
       "      <th>0</th>\n",
       "      <td>230.1</td>\n",
       "      <td>37.8</td>\n",
       "      <td>69.2</td>\n",
       "      <td>22.1</td>\n",
       "    </tr>\n",
       "    <tr>\n",
       "      <th>1</th>\n",
       "      <td>44.5</td>\n",
       "      <td>39.3</td>\n",
       "      <td>45.1</td>\n",
       "      <td>10.4</td>\n",
       "    </tr>\n",
       "    <tr>\n",
       "      <th>2</th>\n",
       "      <td>17.2</td>\n",
       "      <td>45.9</td>\n",
       "      <td>69.3</td>\n",
       "      <td>12.0</td>\n",
       "    </tr>\n",
       "    <tr>\n",
       "      <th>3</th>\n",
       "      <td>151.5</td>\n",
       "      <td>41.3</td>\n",
       "      <td>58.5</td>\n",
       "      <td>16.5</td>\n",
       "    </tr>\n",
       "    <tr>\n",
       "      <th>4</th>\n",
       "      <td>180.8</td>\n",
       "      <td>10.8</td>\n",
       "      <td>58.4</td>\n",
       "      <td>17.9</td>\n",
       "    </tr>\n",
       "  </tbody>\n",
       "</table>\n",
       "</div>"
      ],
      "text/plain": [
       "      TV  Radio  Newspaper  Sales\n",
       "0  230.1   37.8       69.2   22.1\n",
       "1   44.5   39.3       45.1   10.4\n",
       "2   17.2   45.9       69.3   12.0\n",
       "3  151.5   41.3       58.5   16.5\n",
       "4  180.8   10.8       58.4   17.9"
      ]
     },
     "execution_count": 4,
     "metadata": {},
     "output_type": "execute_result"
    }
   ],
   "source": [
    "data.head()"
   ]
  },
  {
   "cell_type": "code",
   "execution_count": 5,
   "id": "17352d44",
   "metadata": {},
   "outputs": [
    {
     "data": {
      "text/html": [
       "<div>\n",
       "<style scoped>\n",
       "    .dataframe tbody tr th:only-of-type {\n",
       "        vertical-align: middle;\n",
       "    }\n",
       "\n",
       "    .dataframe tbody tr th {\n",
       "        vertical-align: top;\n",
       "    }\n",
       "\n",
       "    .dataframe thead th {\n",
       "        text-align: right;\n",
       "    }\n",
       "</style>\n",
       "<table border=\"1\" class=\"dataframe\">\n",
       "  <thead>\n",
       "    <tr style=\"text-align: right;\">\n",
       "      <th></th>\n",
       "      <th>TV</th>\n",
       "      <th>Radio</th>\n",
       "      <th>Newspaper</th>\n",
       "      <th>Sales</th>\n",
       "    </tr>\n",
       "  </thead>\n",
       "  <tbody>\n",
       "    <tr>\n",
       "      <th>195</th>\n",
       "      <td>38.2</td>\n",
       "      <td>3.7</td>\n",
       "      <td>13.8</td>\n",
       "      <td>7.6</td>\n",
       "    </tr>\n",
       "    <tr>\n",
       "      <th>196</th>\n",
       "      <td>94.2</td>\n",
       "      <td>4.9</td>\n",
       "      <td>8.1</td>\n",
       "      <td>14.0</td>\n",
       "    </tr>\n",
       "    <tr>\n",
       "      <th>197</th>\n",
       "      <td>177.0</td>\n",
       "      <td>9.3</td>\n",
       "      <td>6.4</td>\n",
       "      <td>14.8</td>\n",
       "    </tr>\n",
       "    <tr>\n",
       "      <th>198</th>\n",
       "      <td>283.6</td>\n",
       "      <td>42.0</td>\n",
       "      <td>66.2</td>\n",
       "      <td>25.5</td>\n",
       "    </tr>\n",
       "    <tr>\n",
       "      <th>199</th>\n",
       "      <td>232.1</td>\n",
       "      <td>8.6</td>\n",
       "      <td>8.7</td>\n",
       "      <td>18.4</td>\n",
       "    </tr>\n",
       "  </tbody>\n",
       "</table>\n",
       "</div>"
      ],
      "text/plain": [
       "        TV  Radio  Newspaper  Sales\n",
       "195   38.2    3.7       13.8    7.6\n",
       "196   94.2    4.9        8.1   14.0\n",
       "197  177.0    9.3        6.4   14.8\n",
       "198  283.6   42.0       66.2   25.5\n",
       "199  232.1    8.6        8.7   18.4"
      ]
     },
     "execution_count": 5,
     "metadata": {},
     "output_type": "execute_result"
    }
   ],
   "source": [
    "data.tail()"
   ]
  },
  {
   "cell_type": "code",
   "execution_count": 6,
   "id": "f39c7523",
   "metadata": {},
   "outputs": [
    {
     "data": {
      "text/html": [
       "<div>\n",
       "<style scoped>\n",
       "    .dataframe tbody tr th:only-of-type {\n",
       "        vertical-align: middle;\n",
       "    }\n",
       "\n",
       "    .dataframe tbody tr th {\n",
       "        vertical-align: top;\n",
       "    }\n",
       "\n",
       "    .dataframe thead th {\n",
       "        text-align: right;\n",
       "    }\n",
       "</style>\n",
       "<table border=\"1\" class=\"dataframe\">\n",
       "  <thead>\n",
       "    <tr style=\"text-align: right;\">\n",
       "      <th></th>\n",
       "      <th>TV</th>\n",
       "      <th>Radio</th>\n",
       "      <th>Newspaper</th>\n",
       "      <th>Sales</th>\n",
       "    </tr>\n",
       "  </thead>\n",
       "  <tbody>\n",
       "    <tr>\n",
       "      <th>count</th>\n",
       "      <td>200.000000</td>\n",
       "      <td>200.000000</td>\n",
       "      <td>200.000000</td>\n",
       "      <td>200.000000</td>\n",
       "    </tr>\n",
       "    <tr>\n",
       "      <th>mean</th>\n",
       "      <td>147.042500</td>\n",
       "      <td>23.264000</td>\n",
       "      <td>30.554000</td>\n",
       "      <td>15.130500</td>\n",
       "    </tr>\n",
       "    <tr>\n",
       "      <th>std</th>\n",
       "      <td>85.854236</td>\n",
       "      <td>14.846809</td>\n",
       "      <td>21.778621</td>\n",
       "      <td>5.283892</td>\n",
       "    </tr>\n",
       "    <tr>\n",
       "      <th>min</th>\n",
       "      <td>0.700000</td>\n",
       "      <td>0.000000</td>\n",
       "      <td>0.300000</td>\n",
       "      <td>1.600000</td>\n",
       "    </tr>\n",
       "    <tr>\n",
       "      <th>25%</th>\n",
       "      <td>74.375000</td>\n",
       "      <td>9.975000</td>\n",
       "      <td>12.750000</td>\n",
       "      <td>11.000000</td>\n",
       "    </tr>\n",
       "    <tr>\n",
       "      <th>50%</th>\n",
       "      <td>149.750000</td>\n",
       "      <td>22.900000</td>\n",
       "      <td>25.750000</td>\n",
       "      <td>16.000000</td>\n",
       "    </tr>\n",
       "    <tr>\n",
       "      <th>75%</th>\n",
       "      <td>218.825000</td>\n",
       "      <td>36.525000</td>\n",
       "      <td>45.100000</td>\n",
       "      <td>19.050000</td>\n",
       "    </tr>\n",
       "    <tr>\n",
       "      <th>max</th>\n",
       "      <td>296.400000</td>\n",
       "      <td>49.600000</td>\n",
       "      <td>114.000000</td>\n",
       "      <td>27.000000</td>\n",
       "    </tr>\n",
       "  </tbody>\n",
       "</table>\n",
       "</div>"
      ],
      "text/plain": [
       "               TV       Radio   Newspaper       Sales\n",
       "count  200.000000  200.000000  200.000000  200.000000\n",
       "mean   147.042500   23.264000   30.554000   15.130500\n",
       "std     85.854236   14.846809   21.778621    5.283892\n",
       "min      0.700000    0.000000    0.300000    1.600000\n",
       "25%     74.375000    9.975000   12.750000   11.000000\n",
       "50%    149.750000   22.900000   25.750000   16.000000\n",
       "75%    218.825000   36.525000   45.100000   19.050000\n",
       "max    296.400000   49.600000  114.000000   27.000000"
      ]
     },
     "execution_count": 6,
     "metadata": {},
     "output_type": "execute_result"
    }
   ],
   "source": [
    "data.describe()"
   ]
  },
  {
   "cell_type": "markdown",
   "id": "23a88547",
   "metadata": {},
   "source": [
    "### Insights fron the data\n",
    "\n",
    "#### Min amount Spend on tv is 0.700000\n",
    "#### Max amount spend on tv is 296.400000\n",
    "#### The mean of tv is grester than others\n",
    "#### Therefore more amount is spend on tv\n",
    "#### No constant values present in the data.\n",
    "#### The cost of advertisment on radio is low.\n",
    "#### In one case their is 0 spend on radio"
   ]
  },
  {
   "cell_type": "code",
   "execution_count": 7,
   "id": "45dd457f",
   "metadata": {},
   "outputs": [
    {
     "data": {
      "text/plain": [
       "(200, 4)"
      ]
     },
     "execution_count": 7,
     "metadata": {},
     "output_type": "execute_result"
    }
   ],
   "source": [
    "data.shape"
   ]
  },
  {
   "cell_type": "code",
   "execution_count": 8,
   "id": "ad72ab5e",
   "metadata": {},
   "outputs": [
    {
     "data": {
      "text/plain": [
       "800"
      ]
     },
     "execution_count": 8,
     "metadata": {},
     "output_type": "execute_result"
    }
   ],
   "source": [
    "data.size"
   ]
  },
  {
   "cell_type": "code",
   "execution_count": 11,
   "id": "9245510e",
   "metadata": {},
   "outputs": [
    {
     "data": {
      "text/plain": [
       "array([230.1,  44.5,  17.2, 151.5, 180.8,   8.7,  57.5, 120.2,   8.6,\n",
       "       199.8,  66.1, 214.7,  23.8,  97.5, 204.1, 195.4,  67.8, 281.4,\n",
       "        69.2, 147.3, 218.4, 237.4,  13.2, 228.3,  62.3, 262.9, 142.9,\n",
       "       240.1, 248.8,  70.6, 292.9, 112.9,  97.2, 265.6,  95.7, 290.7,\n",
       "       266.9,  74.7,  43.1, 228. , 202.5, 177. , 293.6, 206.9,  25.1,\n",
       "       175.1,  89.7, 239.9, 227.2,  66.9, 100.4, 216.4, 182.6, 262.7,\n",
       "       198.9,   7.3, 136.2, 210.8, 210.7,  53.5, 261.3, 239.3, 102.7,\n",
       "       131.1,  69. ,  31.5, 139.3, 216.8, 199.1, 109.8,  26.8, 129.4,\n",
       "       213.4,  16.9,  27.5, 120.5,   5.4, 116. ,  76.4, 239.8,  75.3,\n",
       "        68.4, 213.5, 193.2,  76.3, 110.7,  88.3, 134.3,  28.6, 217.7,\n",
       "       250.9, 107.4, 163.3, 197.6, 184.9, 289.7, 135.2, 222.4, 296.4,\n",
       "       280.2, 187.9, 238.2, 137.9,  25. ,  90.4,  13.1, 255.4, 225.8,\n",
       "       241.7, 175.7, 209.6,  78.2,  75.1, 139.2, 125.7,  19.4, 141.3,\n",
       "        18.8, 224. , 123.1, 229.5,  87.2,   7.8,  80.2, 220.3,  59.6,\n",
       "         0.7, 265.2,   8.4, 219.8,  36.9,  48.3,  25.6, 273.7,  43. ,\n",
       "        73.4, 193.7, 220.5, 104.6,  96.2, 140.3, 243.2,  38. ,  44.7,\n",
       "       280.7, 121. , 171.3, 187.8,   4.1,  93.9, 149.8,  11.7, 131.7,\n",
       "       172.5,  85.7, 188.4, 163.5, 117.2, 234.5,  17.9, 206.8, 215.4,\n",
       "       284.3,  50. , 164.5,  19.6, 168.4, 276.9, 248.4, 170.2, 276.7,\n",
       "       165.6, 156.6, 218.5,  56.2, 287.6, 253.8, 205. , 139.5, 191.1,\n",
       "       286. ,  18.7,  39.5,  75.5, 166.8, 149.7,  38.2,  94.2, 283.6,\n",
       "       232.1])"
      ]
     },
     "execution_count": 11,
     "metadata": {},
     "output_type": "execute_result"
    }
   ],
   "source": [
    "data.TV.unique()"
   ]
  },
  {
   "cell_type": "code",
   "execution_count": 12,
   "id": "3399f321",
   "metadata": {},
   "outputs": [
    {
     "name": "stdout",
     "output_type": "stream",
     "text": [
      "<class 'pandas.core.frame.DataFrame'>\n",
      "RangeIndex: 200 entries, 0 to 199\n",
      "Data columns (total 4 columns):\n",
      " #   Column     Non-Null Count  Dtype  \n",
      "---  ------     --------------  -----  \n",
      " 0   TV         200 non-null    float64\n",
      " 1   Radio      200 non-null    float64\n",
      " 2   Newspaper  200 non-null    float64\n",
      " 3   Sales      200 non-null    float64\n",
      "dtypes: float64(4)\n",
      "memory usage: 6.4 KB\n"
     ]
    }
   ],
   "source": [
    "data.info()\n"
   ]
  },
  {
   "cell_type": "code",
   "execution_count": 13,
   "id": "ae2cd78f",
   "metadata": {},
   "outputs": [
    {
     "data": {
      "text/plain": [
       "TV           0\n",
       "Radio        0\n",
       "Newspaper    0\n",
       "Sales        0\n",
       "dtype: int64"
      ]
     },
     "execution_count": 13,
     "metadata": {},
     "output_type": "execute_result"
    }
   ],
   "source": [
    "data.isnull().sum()"
   ]
  },
  {
   "cell_type": "markdown",
   "id": "933220da",
   "metadata": {},
   "source": [
    "## EDA (Exploratory  )"
   ]
  },
  {
   "cell_type": "markdown",
   "id": "15a08f1c",
   "metadata": {},
   "source": [
    "##### step-1 Univariate Analysis"
   ]
  },
  {
   "cell_type": "code",
   "execution_count": 17,
   "id": "d6323eef",
   "metadata": {},
   "outputs": [
    {
     "data": {
      "application/vnd.jupyter.widget-view+json": {
       "model_id": "ede7a1183dd8450ca3e3f1ccf723c8a5",
       "version_major": 2,
       "version_minor": 0
      },
      "text/plain": [
       "                                             |                                             | [  0%]   00:00 ->…"
      ]
     },
     "metadata": {},
     "output_type": "display_data"
    },
    {
     "name": "stdout",
     "output_type": "stream",
     "text": [
      "Report SWEETVIZ_REPORT.html was generated! NOTEBOOK/COLAB USERS: the web browser MAY not pop up, regardless, the report IS saved in your notebook/colab files.\n"
     ]
    }
   ],
   "source": [
    "import sweetviz as sv\n",
    "my_report=sv.analyze(data)\n",
    "my_report.show_html()"
   ]
  },
  {
   "cell_type": "code",
   "execution_count": 7,
   "id": "229de279",
   "metadata": {},
   "outputs": [
    {
     "data": {
      "image/png": "[encoded data removed]",
      "text/plain": [
       "<Figure size 500x500 with 1 Axes>"
      ]
     },
     "metadata": {},
     "output_type": "display_data"
    }
   ],
   "source": [
    "#analyaing tv\n",
    "sns.displot(x=data.TV,kde=True)\n",
    "plt.show()"
   ]
  },
  {
   "cell_type": "markdown",
   "id": "237b7832",
   "metadata": {},
   "source": [
    "### Tv"
   ]
  },
  {
   "cell_type": "markdown",
   "id": "55188fff",
   "metadata": {},
   "source": [
    "#### It has 95% of unique values \n",
    "#### The distribution is negatively skewed.\n",
    "#### The values ranges between 1 to 296\n"
   ]
  },
  {
   "cell_type": "code",
   "execution_count": 8,
   "id": "0ffdd312",
   "metadata": {},
   "outputs": [
    {
     "data": {
      "image/png": "[encoded data removed]",
      "text/plain": [
       "<Figure size 640x480 with 1 Axes>"
      ]
     },
     "metadata": {},
     "output_type": "display_data"
    }
   ],
   "source": [
    "#analyzing Radio\n",
    "sns.histplot(x=data.Radio,kde=True)\n",
    "plt.show()"
   ]
  },
  {
   "cell_type": "markdown",
   "id": "fa122420",
   "metadata": {},
   "source": [
    "### Radio"
   ]
  },
  {
   "cell_type": "markdown",
   "id": "5aebeb07",
   "metadata": {},
   "source": [
    "####  It has 84% of unique values \n",
    "#### The distribution is positively skewed.\n",
    "#### The values ranges between 0 to 49.6\n"
   ]
  },
  {
   "cell_type": "code",
   "execution_count": 9,
   "id": "72fd15f2",
   "metadata": {},
   "outputs": [
    {
     "data": {
      "image/png": "[encoded data removed]",
      "text/plain": [
       "<Figure size 640x480 with 1 Axes>"
      ]
     },
     "metadata": {},
     "output_type": "display_data"
    }
   ],
   "source": [
    "#analyzing Newspaper\n",
    "sns.histplot(x=data.Newspaper,kde=True)\n",
    "plt.show()"
   ]
  },
  {
   "cell_type": "markdown",
   "id": "4c4ebfa0",
   "metadata": {},
   "source": [
    "### Newspaper"
   ]
  },
  {
   "cell_type": "markdown",
   "id": "9cea1c99",
   "metadata": {},
   "source": [
    "###  It has 86% of distinct values \n",
    "#### The distribution is positively skewed.\n",
    "#### The values ranges between 0 to 114\n",
    "#### Most of values lies between 0 to 40\n"
   ]
  },
  {
   "cell_type": "markdown",
   "id": "398724b2",
   "metadata": {},
   "source": [
    "##### step-2 Bivariate Analysis"
   ]
  },
  {
   "cell_type": "code",
   "execution_count": 10,
   "id": "81544781",
   "metadata": {},
   "outputs": [
    {
     "data": {
      "image/png": "[encoded data removed]",
      "text/plain": [
       "<Figure size 500x500 with 1 Axes>"
      ]
     },
     "metadata": {},
     "output_type": "display_data"
    }
   ],
   "source": [
    "#anaylsisng Radio and sales\n",
    "sns.relplot(x='Radio',y='Sales',data=data)\n",
    "plt.show()\n"
   ]
  },
  {
   "cell_type": "markdown",
   "id": "7bd73154",
   "metadata": {},
   "source": [
    "#### Radio ads are not showing much trend for the sales of product"
   ]
  },
  {
   "cell_type": "code",
   "execution_count": 11,
   "id": "e816b3b0",
   "metadata": {},
   "outputs": [
    {
     "data": {
      "image/png": "[encoded data removed]",
      "text/plain": [
       "<Figure size 500x500 with 1 Axes>"
      ]
     },
     "metadata": {},
     "output_type": "display_data"
    }
   ],
   "source": [
    "#anaylzind Newspaper ad sales\n",
    "sns.relplot(x='Newspaper',y='Sales',data=data)\n",
    "plt.show()\n"
   ]
  },
  {
   "cell_type": "markdown",
   "id": "0f126238",
   "metadata": {},
   "source": [
    "#### Newsapaper is not showing much trend for the sales."
   ]
  },
  {
   "cell_type": "markdown",
   "id": "e450d2f4",
   "metadata": {},
   "source": [
    "##### steps -3 Multivariate Analysizing"
   ]
  },
  {
   "cell_type": "code",
   "execution_count": 12,
   "id": "cfb8f4ed",
   "metadata": {},
   "outputs": [
    {
     "data": {
      "image/png": "[encoded data removed]",
      "text/plain": [
       "<Figure size 1000x1000 with 20 Axes>"
      ]
     },
     "metadata": {},
     "output_type": "display_data"
    }
   ],
   "source": [
    "sns.pairplot(data)\n",
    "plt.show()"
   ]
  },
  {
   "cell_type": "markdown",
   "id": "ec4e1781",
   "metadata": {},
   "source": [
    "Sales and Tv are directly propotional\n",
    "\n",
    "Sales and Radio are not showing any clear trend \n",
    "\n",
    "Newspaper and Sales : Befor 50 newspaper i having good sales but after 50 it has decreased.\n",
    "\n"
   ]
  },
  {
   "cell_type": "markdown",
   "id": "366c95c3",
   "metadata": {},
   "source": [
    "# Data Preprocessing and Feature Engineering"
   ]
  },
  {
   "cell_type": "markdown",
   "id": "f9c0cba1",
   "metadata": {},
   "source": [
    "##### step 1 Finding missing values"
   ]
  },
  {
   "cell_type": "code",
   "execution_count": 7,
   "id": "50d45508",
   "metadata": {},
   "outputs": [
    {
     "data": {
      "text/plain": [
       "TV           0\n",
       "Radio        0\n",
       "Newspaper    0\n",
       "Sales        0\n",
       "dtype: int64"
      ]
     },
     "execution_count": 7,
     "metadata": {},
     "output_type": "execute_result"
    }
   ],
   "source": [
    "data.isnull().sum()"
   ]
  },
  {
   "cell_type": "markdown",
   "id": "ea592cdb",
   "metadata": {},
   "source": [
    "##### step 2 Converting categorical data into numerical"
   ]
  },
  {
   "cell_type": "markdown",
   "id": "c02455fc",
   "metadata": {},
   "source": [
    "##### step 3 - checking the outlier"
   ]
  },
  {
   "cell_type": "code",
   "execution_count": 8,
   "id": "d396cc7a",
   "metadata": {},
   "outputs": [
    {
     "data": {
      "image/png": "[encoded data removed]",
      "text/plain": [
       "<Figure size 640x480 with 1 Axes>"
      ]
     },
     "metadata": {},
     "output_type": "display_data"
    }
   ],
   "source": [
    "sns.boxplot(x='TV',data=data)\n",
    "plt.show()\n",
    "#no outlier"
   ]
  },
  {
   "cell_type": "code",
   "execution_count": 9,
   "id": "68e29eaf",
   "metadata": {},
   "outputs": [
    {
     "data": {
      "image/png": "[encoded data removed]",
      "text/plain": [
       "<Figure size 640x480 with 1 Axes>"
      ]
     },
     "metadata": {},
     "output_type": "display_data"
    }
   ],
   "source": [
    "sns.boxplot(x='Radio',data=data)\n",
    "plt.show()\n",
    "#no outlier"
   ]
  },
  {
   "cell_type": "code",
   "execution_count": 10,
   "id": "23f5b0a3",
   "metadata": {},
   "outputs": [
    {
     "data": {
      "image/png": "[encoded data removed]",
      "text/plain": [
       "<Figure size 640x480 with 1 Axes>"
      ]
     },
     "metadata": {},
     "output_type": "display_data"
    }
   ],
   "source": [
    "sns.boxplot(x='Newspaper',data=data)\n",
    "plt.show()\n",
    "#outlier are present"
   ]
  },
  {
   "cell_type": "code",
   "execution_count": 11,
   "id": "c174f214",
   "metadata": {},
   "outputs": [],
   "source": [
    "#calculating the IQR range\n",
    "from scipy import stats\n",
    "IQR=stats.iqr(data.Newspaper,interpolation='midpoint')\n",
    "IQR\n",
    "Q1=data.Newspaper.quantile(0.25)\n",
    "Q3=data.Newspaper.quantile(0.75)\n",
    "min_limit=Q1-1.5 *IQR\n",
    "max_limit=Q3+1.5*IQR\n"
   ]
  },
  {
   "cell_type": "code",
   "execution_count": 12,
   "id": "a86d4c65",
   "metadata": {},
   "outputs": [
    {
     "data": {
      "text/html": [
       "<div>\n",
       "<style scoped>\n",
       "    .dataframe tbody tr th:only-of-type {\n",
       "        vertical-align: middle;\n",
       "    }\n",
       "\n",
       "    .dataframe tbody tr th {\n",
       "        vertical-align: top;\n",
       "    }\n",
       "\n",
       "    .dataframe thead th {\n",
       "        text-align: right;\n",
       "    }\n",
       "</style>\n",
       "<table border=\"1\" class=\"dataframe\">\n",
       "  <thead>\n",
       "    <tr style=\"text-align: right;\">\n",
       "      <th></th>\n",
       "      <th>TV</th>\n",
       "      <th>Radio</th>\n",
       "      <th>Newspaper</th>\n",
       "      <th>Sales</th>\n",
       "    </tr>\n",
       "  </thead>\n",
       "  <tbody>\n",
       "    <tr>\n",
       "      <th>16</th>\n",
       "      <td>67.8</td>\n",
       "      <td>36.6</td>\n",
       "      <td>114.0</td>\n",
       "      <td>12.5</td>\n",
       "    </tr>\n",
       "    <tr>\n",
       "      <th>101</th>\n",
       "      <td>296.4</td>\n",
       "      <td>36.3</td>\n",
       "      <td>100.9</td>\n",
       "      <td>23.8</td>\n",
       "    </tr>\n",
       "  </tbody>\n",
       "</table>\n",
       "</div>"
      ],
      "text/plain": [
       "        TV  Radio  Newspaper  Sales\n",
       "16    67.8   36.6      114.0   12.5\n",
       "101  296.4   36.3      100.9   23.8"
      ]
     },
     "execution_count": 12,
     "metadata": {},
     "output_type": "execute_result"
    }
   ],
   "source": [
    "#Checking outliers in the max limit\n",
    "data.loc[data['Newspaper']>max_limit]"
   ]
  },
  {
   "cell_type": "code",
   "execution_count": 13,
   "id": "8d89b149",
   "metadata": {},
   "outputs": [],
   "source": [
    "# Handling the outliers with the help of median.\n",
    "data.loc[data['Newspaper']>max_limit,'Newspaper']=np.median(data.Newspaper)"
   ]
  },
  {
   "cell_type": "code",
   "execution_count": 14,
   "id": "903ad04a",
   "metadata": {},
   "outputs": [
    {
     "name": "stderr",
     "output_type": "stream",
     "text": [
      "C:\\Users\\RAHULKUMAR.M\\anaconda3\\lib\\site-packages\\seaborn\\_decorators.py:36: FutureWarning: Pass the following variable as a keyword arg: x. From version 0.12, the only valid positional argument will be `data`, and passing other arguments without an explicit keyword will result in an error or misinterpretation.\n",
      "  warnings.warn(\n"
     ]
    },
    {
     "data": {
      "image/png": "[encoded data removed]",
      "text/plain": [
       "<Figure size 640x480 with 1 Axes>"
      ]
     },
     "metadata": {},
     "output_type": "display_data"
    }
   ],
   "source": [
    "sns.boxplot(data.Newspaper)\n",
    "plt.show()"
   ]
  },
  {
   "cell_type": "markdown",
   "id": "13039043",
   "metadata": {},
   "source": [
    "##### step - 4 Scaling the continous data"
   ]
  },
  {
   "cell_type": "code",
   "execution_count": 15,
   "id": "a068fe50",
   "metadata": {},
   "outputs": [
    {
     "data": {
      "text/plain": [
       "array([[0.77578627, 0.76209677, 0.77328844],\n",
       "       [0.1481231 , 0.79233871, 0.50280584],\n",
       "       [0.0557998 , 0.92540323, 0.77441077],\n",
       "       [0.50997633, 0.83266129, 0.65319865],\n",
       "       [0.60906324, 0.21774194, 0.65207632],\n",
       "       [0.02705445, 0.9858871 , 0.83838384],\n",
       "       [0.19208657, 0.66129032, 0.26038159],\n",
       "       [0.4041258 , 0.39516129, 0.12682379],\n",
       "       [0.02671627, 0.04233871, 0.00785634],\n",
       "       [0.67331755, 0.05241935, 0.2345679 ],\n",
       "       [0.2211701 , 0.11693548, 0.26823793],\n",
       "       [0.72370646, 0.48387097, 0.04152637],\n",
       "       [0.07811972, 0.70766129, 0.7362514 ],\n",
       "       [0.32735881, 0.15322581, 0.07744108],\n",
       "       [0.68785932, 0.66330645, 0.51290685],\n",
       "       [0.65843761, 0.96169355, 0.59034792],\n",
       "       [0.22691917, 0.73790323, 0.28563412],\n",
       "       [0.94927291, 0.7983871 , 0.62289562],\n",
       "       [0.2316537 , 0.41330645, 0.2020202 ],\n",
       "       [0.49577274, 0.48185484, 0.21099888],\n",
       "       [0.73621914, 0.55846774, 0.5959596 ],\n",
       "       [0.80047345, 0.10282258, 0.26038159],\n",
       "       [0.04227257, 0.32056452, 0.55331089],\n",
       "       [0.76969902, 0.34072581, 0.29068462],\n",
       "       [0.20831924, 0.25403226, 0.2020202 ],\n",
       "       [0.8867095 , 0.07056452, 0.21548822],\n",
       "       [0.4808928 , 0.59072581, 0.13804714],\n",
       "       [0.80960433, 0.33669355, 0.25364759],\n",
       "       [0.83902604, 0.54637097, 0.25364759],\n",
       "       [0.23638823, 0.32258065, 0.45454545],\n",
       "       [0.98816368, 0.57056452, 0.48148148],\n",
       "       [0.37943862, 0.35080645, 0.4298541 ],\n",
       "       [0.32634427, 0.03024194, 0.33333333],\n",
       "       [0.89584038, 0.40322581, 0.        ],\n",
       "       [0.32127156, 0.02822581, 0.07968575],\n",
       "       [0.98072371, 0.08266129, 0.09203143],\n",
       "       [0.90023673, 0.88306452, 0.05274972],\n",
       "       [0.25025364, 0.99596774, 0.50953984],\n",
       "       [0.14338857, 0.53830645, 0.39057239],\n",
       "       [0.76868448, 0.76008065, 0.35578002],\n",
       "       [0.68244843, 0.44959677, 0.35129068],\n",
       "       [0.59621238, 0.6733871 , 0.43097643],\n",
       "       [0.99053094, 0.55846774, 0.01683502],\n",
       "       [0.69732837, 0.16935484, 0.29292929],\n",
       "       [0.08251606, 0.51814516, 0.48260382],\n",
       "       [0.58978695, 0.45362903, 0.35016835],\n",
       "       [0.30098072, 0.19959677, 0.3973064 ],\n",
       "       [0.80892797, 0.83669355, 0.20426487],\n",
       "       [0.76597903, 0.31854839, 0.55667789],\n",
       "       [0.22387555, 0.2358871 , 0.40965208],\n",
       "       [0.67331755, 0.0625    , 0.38496072],\n",
       "       [0.33716605, 0.19354839, 0.03703704],\n",
       "       [0.72945553, 0.84072581, 0.44107744],\n",
       "       [0.61515049, 0.93145161, 0.65544332],\n",
       "       [0.88603314, 0.58064516, 0.17508418],\n",
       "       [0.67027393, 0.99596774, 0.67003367],\n",
       "       [0.02231992, 0.56653226, 0.46127946],\n",
       "       [0.4582347 , 0.38709677, 0.18294052],\n",
       "       [0.71051742, 1.        , 0.41975309],\n",
       "       [0.71017924, 0.59475806, 0.1010101 ],\n",
       "       [0.17855935, 0.04032258, 0.23681257],\n",
       "       [0.88129861, 0.8608871 , 0.61054994],\n",
       "       [0.80689888, 0.3125    , 0.3030303 ],\n",
       "       [0.3449442 , 0.59677419, 0.09090909],\n",
       "       [0.44098749, 0.86290323, 0.32098765],\n",
       "       [0.23097734, 0.1875    , 0.00673401],\n",
       "       [0.10415962, 0.49596774, 0.02132435],\n",
       "       [0.4687183 , 0.29233871, 0.11111111],\n",
       "       [0.80047345, 0.55443548, 0.12008979],\n",
       "       [0.73080825, 0.88508065, 0.30190797],\n",
       "       [0.67095029, 0.61693548, 0.43097643],\n",
       "       [0.36895502, 0.28830645, 0.35241302],\n",
       "       [0.08826513, 0.66532258, 0.21324355],\n",
       "       [0.43523842, 0.11491935, 0.34792368],\n",
       "       [0.71931011, 0.49596774, 0.14365881],\n",
       "       [0.05478526, 0.88104839, 1.        ],\n",
       "       [0.0906324 , 0.03225806, 0.22895623],\n",
       "       [0.40514034, 0.57459677, 0.15600449],\n",
       "       [0.01589449, 0.60282258, 0.10213244],\n",
       "       [0.38992222, 0.15524194, 0.25589226],\n",
       "       [0.25600271, 0.53830645, 0.24691358],\n",
       "       [0.80858979, 0.08266129, 0.41077441],\n",
       "       [0.25228272, 0.40927419, 0.36139169],\n",
       "       [0.22894826, 0.89717742, 0.39618406],\n",
       "       [0.71964829, 0.86693548, 0.37598204],\n",
       "       [0.65099763, 0.37096774, 0.73400673],\n",
       "       [0.25566452, 0.55443548, 0.17620651],\n",
       "       [0.37199865, 0.81854839, 0.70594837],\n",
       "       [0.2962462 , 0.5141129 , 0.82042649],\n",
       "       [0.36895502, 0.96370968, 0.57351291],\n",
       "       [0.45180927, 0.09879032, 0.1010101 ],\n",
       "       [0.09435238, 0.03024194, 0.36700337],\n",
       "       [0.73385188, 0.67540323, 0.65881033],\n",
       "       [0.84612783, 0.7358871 , 0.80808081],\n",
       "       [0.36083869, 0.28225806, 0.11896745],\n",
       "       [0.54988164, 0.63709677, 0.59034792],\n",
       "       [0.66587758, 0.07056452, 0.06285073],\n",
       "       [0.62292864, 0.4233871 , 0.24354658],\n",
       "       [0.9773419 , 0.85282258, 0.57126824],\n",
       "       [0.45485289, 0.84072581, 0.51178451],\n",
       "       [0.74974636, 0.08669355, 0.55555556],\n",
       "       [1.        , 0.73185484, 0.28563412],\n",
       "       [0.94521474, 0.20362903, 0.23681257],\n",
       "       [0.63307406, 0.34677419, 0.19753086],\n",
       "       [0.8031789 , 0.69153226, 0.05611672],\n",
       "       [0.46398377, 0.93548387, 0.65881033],\n",
       "       [0.08217788, 0.22177419, 0.32996633],\n",
       "       [0.30334799, 0.00604839, 0.25701459],\n",
       "       [0.04193439, 0.00806452, 0.28395062],\n",
       "       [0.86134596, 0.54233871, 0.05836139],\n",
       "       [0.7612445 , 0.16532258, 0.63075196],\n",
       "       [0.81501522, 0.76612903, 0.25701459],\n",
       "       [0.59181603, 0.31048387, 0.02356902],\n",
       "       [0.70645925, 0.41532258, 0.11672278],\n",
       "       [0.26208996, 0.94354839, 0.38383838],\n",
       "       [0.25160636, 0.70564516, 0.58810325],\n",
       "       [0.46838011, 0.28830645, 0.28395062],\n",
       "       [0.25600271, 0.01612903, 0.1627385 ],\n",
       "       [0.42272574, 0.74395161, 0.88552189],\n",
       "       [0.06323977, 0.32258065, 0.24691358],\n",
       "       [0.47548191, 0.54032258, 0.51515152],\n",
       "       [0.06121069, 0.4375    , 0.56228956],\n",
       "       [0.75515725, 0.0483871 , 0.17171717],\n",
       "       [0.41393304, 0.69758065, 0.13580247],\n",
       "       [0.77375719, 0.65120968, 0.82940516],\n",
       "       [0.29252621, 0.23790323, 0.28731762],\n",
       "       [0.02401082, 0.78427419, 0.56453423],\n",
       "       [0.26885357, 0.        , 0.09988777],\n",
       "       [0.74264457, 0.98790323, 0.0325477 ],\n",
       "       [0.19918837, 0.24193548, 0.48035915],\n",
       "       [0.        , 0.7983871 , 0.09427609],\n",
       "       [0.89448766, 0.05846774, 0.47923681],\n",
       "       [0.02603991, 0.5483871 , 0.02020202],\n",
       "       [0.74095367, 0.67540323, 0.50280584],\n",
       "       [0.12242137, 0.77822581, 0.7328844 ],\n",
       "       [0.16097396, 0.94758065, 0.09203143],\n",
       "       [0.08420697, 0.78629032, 0.1010101 ],\n",
       "       [0.92323301, 0.58266129, 0.66666667],\n",
       "       [0.14305039, 0.52217742, 0.22671156],\n",
       "       [0.62292864, 0.88508065, 0.01571268],\n",
       "       [0.24585729, 0.34274194, 0.14141414],\n",
       "       [0.65268854, 0.71370968, 0.84511785],\n",
       "       [0.74332093, 0.66935484, 0.42199776],\n",
       "       [0.35136963, 0.11491935, 0.38271605],\n",
       "       [0.32296246, 0.2983871 , 0.4332211 ],\n",
       "       [0.4721001 , 0.03830645, 0.0976431 ],\n",
       "       [0.80960433, 0.14717742, 0.09427609],\n",
       "       [0.82008793, 0.98790323, 0.49382716],\n",
       "       [0.12614136, 0.8125    , 0.1301908 ],\n",
       "       [0.14879946, 0.52016129, 0.22783389],\n",
       "       [0.94690565, 0.28024194, 0.41189675],\n",
       "       [0.40683125, 0.16935484, 0.54320988],\n",
       "       [0.66587758, 0.46975806, 0.15600449],\n",
       "       [0.57693608, 0.80040323, 0.41975309],\n",
       "       [0.63273588, 0.42540323, 0.10325477],\n",
       "       [0.01149814, 0.23387097, 0.06060606],\n",
       "       [0.31518431, 0.87701613, 0.5634119 ],\n",
       "       [0.50422726, 0.02620968, 0.26936027],\n",
       "       [0.03719986, 0.74395161, 0.50392817],\n",
       "       [0.44301657, 0.37096774, 0.38496072],\n",
       "       [0.58099425, 0.36491935, 0.34118967],\n",
       "       [0.2874535 , 0.72177419, 0.54994388],\n",
       "       [0.63476496, 0.36491935, 0.28395062],\n",
       "       [0.550558  , 0.74193548, 0.07968575],\n",
       "       [0.39398039, 0.29637097, 0.05723906],\n",
       "       [0.79066622, 0.06854839, 0.94837262],\n",
       "       [0.05816706, 0.75806452, 0.23905724],\n",
       "       [0.69699019, 0.10483871, 0.21436588],\n",
       "       [0.72607372, 0.47580645, 0.64309764],\n",
       "       [0.95908015, 0.21370968, 0.0684624 ],\n",
       "       [0.16672303, 0.23387097, 0.20314254],\n",
       "       [0.5539398 , 0.42137097, 0.52861953],\n",
       "       [0.06391613, 0.40524194, 0.18742985],\n",
       "       [0.56712885, 0.14314516, 0.14029181],\n",
       "       [0.74974636, 0.06854839, 0.14365881],\n",
       "       [0.93405479, 0.9858871 , 0.4657688 ],\n",
       "       [0.83767332, 0.60887097, 0.22446689],\n",
       "       [0.5732161 , 0.15725806, 0.39169473],\n",
       "       [0.93337842, 0.04637097, 0.26262626],\n",
       "       [0.55765979, 0.2016129 , 0.19416386],\n",
       "       [0.52722354, 0.05241935, 0.08978676],\n",
       "       [0.73655732, 0.10887097, 0.30415264],\n",
       "       [0.18769023, 0.11491935, 0.32996633],\n",
       "       [0.97024011, 0.86693548, 0.80246914],\n",
       "       [0.85593507, 0.42943548, 0.33333333],\n",
       "       [0.69090294, 0.90927419, 0.21661055],\n",
       "       [0.46939466, 0.04233871, 0.29517396],\n",
       "       [0.64389584, 0.57862903, 0.20089787],\n",
       "       [0.96482922, 0.28024194, 0.03815937],\n",
       "       [0.06087251, 0.24395161, 0.25925926],\n",
       "       [0.13121407, 0.82862903, 0.0617284 ],\n",
       "       [0.25295908, 0.21774194, 0.06397306],\n",
       "       [0.0557998 , 0.08266129, 0.35129068],\n",
       "       [0.56171796, 0.84677419, 0.03703704],\n",
       "       [0.50388908, 0.71774194, 0.06397306],\n",
       "       [0.12681772, 0.07459677, 0.15151515],\n",
       "       [0.31619885, 0.09879032, 0.08754209],\n",
       "       [0.59621238, 0.1875    , 0.0684624 ],\n",
       "       [0.95671288, 0.84677419, 0.73961841],\n",
       "       [0.78254988, 0.1733871 , 0.09427609]])"
      ]
     },
     "execution_count": 15,
     "metadata": {},
     "output_type": "execute_result"
    }
   ],
   "source": [
    "#scaling when algorithms which calulate distance and numerical data\n",
    "from sklearn.preprocessing import MinMaxScaler\n",
    "mn=MinMaxScaler() #object creaction\n",
    "data[['TV','Radio','Newspaper']]\n",
    "mn.fit_transform(data[['TV','Radio','Newspaper']])\n"
   ]
  },
  {
   "cell_type": "code",
   "execution_count": 16,
   "id": "3bb68388",
   "metadata": {
    "scrolled": true
   },
   "outputs": [
    {
     "data": {
      "text/html": [
       "<div>\n",
       "<style scoped>\n",
       "    .dataframe tbody tr th:only-of-type {\n",
       "        vertical-align: middle;\n",
       "    }\n",
       "\n",
       "    .dataframe tbody tr th {\n",
       "        vertical-align: top;\n",
       "    }\n",
       "\n",
       "    .dataframe thead th {\n",
       "        text-align: right;\n",
       "    }\n",
       "</style>\n",
       "<table border=\"1\" class=\"dataframe\">\n",
       "  <thead>\n",
       "    <tr style=\"text-align: right;\">\n",
       "      <th></th>\n",
       "      <th>TV</th>\n",
       "      <th>Radio</th>\n",
       "      <th>Newspaper</th>\n",
       "      <th>Sales</th>\n",
       "    </tr>\n",
       "  </thead>\n",
       "  <tbody>\n",
       "    <tr>\n",
       "      <th>0</th>\n",
       "      <td>230.1</td>\n",
       "      <td>37.8</td>\n",
       "      <td>69.2</td>\n",
       "      <td>22.1</td>\n",
       "    </tr>\n",
       "    <tr>\n",
       "      <th>1</th>\n",
       "      <td>44.5</td>\n",
       "      <td>39.3</td>\n",
       "      <td>45.1</td>\n",
       "      <td>10.4</td>\n",
       "    </tr>\n",
       "    <tr>\n",
       "      <th>2</th>\n",
       "      <td>17.2</td>\n",
       "      <td>45.9</td>\n",
       "      <td>69.3</td>\n",
       "      <td>12.0</td>\n",
       "    </tr>\n",
       "    <tr>\n",
       "      <th>3</th>\n",
       "      <td>151.5</td>\n",
       "      <td>41.3</td>\n",
       "      <td>58.5</td>\n",
       "      <td>16.5</td>\n",
       "    </tr>\n",
       "    <tr>\n",
       "      <th>4</th>\n",
       "      <td>180.8</td>\n",
       "      <td>10.8</td>\n",
       "      <td>58.4</td>\n",
       "      <td>17.9</td>\n",
       "    </tr>\n",
       "    <tr>\n",
       "      <th>...</th>\n",
       "      <td>...</td>\n",
       "      <td>...</td>\n",
       "      <td>...</td>\n",
       "      <td>...</td>\n",
       "    </tr>\n",
       "    <tr>\n",
       "      <th>195</th>\n",
       "      <td>38.2</td>\n",
       "      <td>3.7</td>\n",
       "      <td>13.8</td>\n",
       "      <td>7.6</td>\n",
       "    </tr>\n",
       "    <tr>\n",
       "      <th>196</th>\n",
       "      <td>94.2</td>\n",
       "      <td>4.9</td>\n",
       "      <td>8.1</td>\n",
       "      <td>14.0</td>\n",
       "    </tr>\n",
       "    <tr>\n",
       "      <th>197</th>\n",
       "      <td>177.0</td>\n",
       "      <td>9.3</td>\n",
       "      <td>6.4</td>\n",
       "      <td>14.8</td>\n",
       "    </tr>\n",
       "    <tr>\n",
       "      <th>198</th>\n",
       "      <td>283.6</td>\n",
       "      <td>42.0</td>\n",
       "      <td>66.2</td>\n",
       "      <td>25.5</td>\n",
       "    </tr>\n",
       "    <tr>\n",
       "      <th>199</th>\n",
       "      <td>232.1</td>\n",
       "      <td>8.6</td>\n",
       "      <td>8.7</td>\n",
       "      <td>18.4</td>\n",
       "    </tr>\n",
       "  </tbody>\n",
       "</table>\n",
       "<p>200 rows × 4 columns</p>\n",
       "</div>"
      ],
      "text/plain": [
       "        TV  Radio  Newspaper  Sales\n",
       "0    230.1   37.8       69.2   22.1\n",
       "1     44.5   39.3       45.1   10.4\n",
       "2     17.2   45.9       69.3   12.0\n",
       "3    151.5   41.3       58.5   16.5\n",
       "4    180.8   10.8       58.4   17.9\n",
       "..     ...    ...        ...    ...\n",
       "195   38.2    3.7       13.8    7.6\n",
       "196   94.2    4.9        8.1   14.0\n",
       "197  177.0    9.3        6.4   14.8\n",
       "198  283.6   42.0       66.2   25.5\n",
       "199  232.1    8.6        8.7   18.4\n",
       "\n",
       "[200 rows x 4 columns]"
      ]
     },
     "execution_count": 16,
     "metadata": {},
     "output_type": "execute_result"
    }
   ],
   "source": [
    "data"
   ]
  },
  {
   "cell_type": "markdown",
   "id": "95a87c55",
   "metadata": {},
   "source": [
    "# Feature Selection"
   ]
  },
  {
   "cell_type": "code",
   "execution_count": 17,
   "id": "3fb3c2f8",
   "metadata": {},
   "outputs": [
    {
     "data": {
      "image/png": "[encoded data removed]",
      "text/plain": [
       "<Figure size 640x480 with 2 Axes>"
      ]
     },
     "metadata": {},
     "output_type": "display_data"
    }
   ],
   "source": [
    "#step 2 chhecking the correlation within the independent variable\n",
    "sns.heatmap(data.drop('Sales',axis=1).corr(),annot=True)  #annot gives the value of correaltion\n",
    "plt.show()"
   ]
  },
  {
   "cell_type": "markdown",
   "id": "5e49cc94",
   "metadata": {},
   "source": [
    "### With the help of heatmap we can see that there is no correlation between petal the variables as they are not crossing the threshold that is 0.9 \n"
   ]
  },
  {
   "cell_type": "code",
   "execution_count": 18,
   "id": "f673a7b1",
   "metadata": {},
   "outputs": [
    {
     "data": {
      "text/html": [
       "<div>\n",
       "<style scoped>\n",
       "    .dataframe tbody tr th:only-of-type {\n",
       "        vertical-align: middle;\n",
       "    }\n",
       "\n",
       "    .dataframe tbody tr th {\n",
       "        vertical-align: top;\n",
       "    }\n",
       "\n",
       "    .dataframe thead th {\n",
       "        text-align: right;\n",
       "    }\n",
       "</style>\n",
       "<table border=\"1\" class=\"dataframe\">\n",
       "  <thead>\n",
       "    <tr style=\"text-align: right;\">\n",
       "      <th></th>\n",
       "      <th>TV</th>\n",
       "      <th>Radio</th>\n",
       "      <th>Newspaper</th>\n",
       "      <th>Sales</th>\n",
       "    </tr>\n",
       "  </thead>\n",
       "  <tbody>\n",
       "    <tr>\n",
       "      <th>TV</th>\n",
       "      <td>1.000000</td>\n",
       "      <td>0.054809</td>\n",
       "      <td>0.048462</td>\n",
       "      <td>0.901208</td>\n",
       "    </tr>\n",
       "    <tr>\n",
       "      <th>Radio</th>\n",
       "      <td>0.054809</td>\n",
       "      <td>1.000000</td>\n",
       "      <td>0.343141</td>\n",
       "      <td>0.349631</td>\n",
       "    </tr>\n",
       "    <tr>\n",
       "      <th>Newspaper</th>\n",
       "      <td>0.048462</td>\n",
       "      <td>0.343141</td>\n",
       "      <td>1.000000</td>\n",
       "      <td>0.149471</td>\n",
       "    </tr>\n",
       "    <tr>\n",
       "      <th>Sales</th>\n",
       "      <td>0.901208</td>\n",
       "      <td>0.349631</td>\n",
       "      <td>0.149471</td>\n",
       "      <td>1.000000</td>\n",
       "    </tr>\n",
       "  </tbody>\n",
       "</table>\n",
       "</div>"
      ],
      "text/plain": [
       "                 TV     Radio  Newspaper     Sales\n",
       "TV         1.000000  0.054809   0.048462  0.901208\n",
       "Radio      0.054809  1.000000   0.343141  0.349631\n",
       "Newspaper  0.048462  0.343141   1.000000  0.149471\n",
       "Sales      0.901208  0.349631   0.149471  1.000000"
      ]
     },
     "execution_count": 18,
     "metadata": {},
     "output_type": "execute_result"
    }
   ],
   "source": [
    "data.corr()"
   ]
  },
  {
   "cell_type": "markdown",
   "id": "71e1df27",
   "metadata": {},
   "source": [
    "# Model Creation"
   ]
  },
  {
   "cell_type": "markdown",
   "id": "ea8b559c",
   "metadata": {},
   "source": [
    "##### step 1 Independent and dependent variablee reation\n"
   ]
  },
  {
   "cell_type": "code",
   "execution_count": 19,
   "id": "56016638",
   "metadata": {},
   "outputs": [],
   "source": [
    "#split -1\n",
    "#step 1 Independent and dependent variablee creation\n",
    "X=data[['TV','Radio','Newspaper']]  #dataframe\n",
    "##X= variable contain all inputs\n",
    "y=data.Sales #series\n",
    "#y= is output"
   ]
  },
  {
   "cell_type": "code",
   "execution_count": 20,
   "id": "c774fdcf",
   "metadata": {},
   "outputs": [
    {
     "data": {
      "text/html": [
       "<div>\n",
       "<style scoped>\n",
       "    .dataframe tbody tr th:only-of-type {\n",
       "        vertical-align: middle;\n",
       "    }\n",
       "\n",
       "    .dataframe tbody tr th {\n",
       "        vertical-align: top;\n",
       "    }\n",
       "\n",
       "    .dataframe thead th {\n",
       "        text-align: right;\n",
       "    }\n",
       "</style>\n",
       "<table border=\"1\" class=\"dataframe\">\n",
       "  <thead>\n",
       "    <tr style=\"text-align: right;\">\n",
       "      <th></th>\n",
       "      <th>TV</th>\n",
       "      <th>Radio</th>\n",
       "      <th>Newspaper</th>\n",
       "    </tr>\n",
       "  </thead>\n",
       "  <tbody>\n",
       "    <tr>\n",
       "      <th>0</th>\n",
       "      <td>230.1</td>\n",
       "      <td>37.8</td>\n",
       "      <td>69.2</td>\n",
       "    </tr>\n",
       "    <tr>\n",
       "      <th>1</th>\n",
       "      <td>44.5</td>\n",
       "      <td>39.3</td>\n",
       "      <td>45.1</td>\n",
       "    </tr>\n",
       "    <tr>\n",
       "      <th>2</th>\n",
       "      <td>17.2</td>\n",
       "      <td>45.9</td>\n",
       "      <td>69.3</td>\n",
       "    </tr>\n",
       "    <tr>\n",
       "      <th>3</th>\n",
       "      <td>151.5</td>\n",
       "      <td>41.3</td>\n",
       "      <td>58.5</td>\n",
       "    </tr>\n",
       "    <tr>\n",
       "      <th>4</th>\n",
       "      <td>180.8</td>\n",
       "      <td>10.8</td>\n",
       "      <td>58.4</td>\n",
       "    </tr>\n",
       "    <tr>\n",
       "      <th>...</th>\n",
       "      <td>...</td>\n",
       "      <td>...</td>\n",
       "      <td>...</td>\n",
       "    </tr>\n",
       "    <tr>\n",
       "      <th>195</th>\n",
       "      <td>38.2</td>\n",
       "      <td>3.7</td>\n",
       "      <td>13.8</td>\n",
       "    </tr>\n",
       "    <tr>\n",
       "      <th>196</th>\n",
       "      <td>94.2</td>\n",
       "      <td>4.9</td>\n",
       "      <td>8.1</td>\n",
       "    </tr>\n",
       "    <tr>\n",
       "      <th>197</th>\n",
       "      <td>177.0</td>\n",
       "      <td>9.3</td>\n",
       "      <td>6.4</td>\n",
       "    </tr>\n",
       "    <tr>\n",
       "      <th>198</th>\n",
       "      <td>283.6</td>\n",
       "      <td>42.0</td>\n",
       "      <td>66.2</td>\n",
       "    </tr>\n",
       "    <tr>\n",
       "      <th>199</th>\n",
       "      <td>232.1</td>\n",
       "      <td>8.6</td>\n",
       "      <td>8.7</td>\n",
       "    </tr>\n",
       "  </tbody>\n",
       "</table>\n",
       "<p>200 rows × 3 columns</p>\n",
       "</div>"
      ],
      "text/plain": [
       "        TV  Radio  Newspaper\n",
       "0    230.1   37.8       69.2\n",
       "1     44.5   39.3       45.1\n",
       "2     17.2   45.9       69.3\n",
       "3    151.5   41.3       58.5\n",
       "4    180.8   10.8       58.4\n",
       "..     ...    ...        ...\n",
       "195   38.2    3.7       13.8\n",
       "196   94.2    4.9        8.1\n",
       "197  177.0    9.3        6.4\n",
       "198  283.6   42.0       66.2\n",
       "199  232.1    8.6        8.7\n",
       "\n",
       "[200 rows x 3 columns]"
      ]
     },
     "execution_count": 20,
     "metadata": {},
     "output_type": "execute_result"
    }
   ],
   "source": [
    "X"
   ]
  },
  {
   "cell_type": "code",
   "execution_count": 21,
   "id": "2de6fa0b",
   "metadata": {},
   "outputs": [
    {
     "data": {
      "text/plain": [
       "0      22.1\n",
       "1      10.4\n",
       "2      12.0\n",
       "3      16.5\n",
       "4      17.9\n",
       "       ... \n",
       "195     7.6\n",
       "196    14.0\n",
       "197    14.8\n",
       "198    25.5\n",
       "199    18.4\n",
       "Name: Sales, Length: 200, dtype: float64"
      ]
     },
     "execution_count": 21,
     "metadata": {},
     "output_type": "execute_result"
    }
   ],
   "source": [
    "y"
   ]
  },
  {
   "cell_type": "markdown",
   "id": "b31a9827",
   "metadata": {},
   "source": [
    "##### step 2 Training and Testing data"
   ]
  },
  {
   "cell_type": "code",
   "execution_count": 22,
   "id": "a72e338f",
   "metadata": {},
   "outputs": [],
   "source": [
    "#split -2\n",
    "from sklearn.model_selection import train_test_split\n",
    "X_train,X_test,y_train,y_test=train_test_split(X,y,test_size=0.2,random_state=4)"
   ]
  },
  {
   "cell_type": "code",
   "execution_count": 23,
   "id": "9f0abb33",
   "metadata": {},
   "outputs": [
    {
     "data": {
      "text/plain": [
       "11     17.4\n",
       "99     17.2\n",
       "128    24.7\n",
       "175    27.0\n",
       "1      10.4\n",
       "111    21.8\n",
       "90     14.0\n",
       "177    16.7\n",
       "88     12.9\n",
       "187    17.3\n",
       "61     24.2\n",
       "199    18.4\n",
       "191    11.9\n",
       "123    15.2\n",
       "184    17.6\n",
       "188    20.9\n",
       "33     17.4\n",
       "171    17.5\n",
       "138     9.6\n",
       "84     21.7\n",
       "81     17.3\n",
       "102    19.8\n",
       "147    25.4\n",
       "34     11.9\n",
       "47     23.2\n",
       "124    19.7\n",
       "112    17.1\n",
       "6      11.8\n",
       "14     19.0\n",
       "190    10.8\n",
       "80     11.8\n",
       "18     11.3\n",
       "167    17.2\n",
       "45     16.1\n",
       "153    16.0\n",
       "119     6.6\n",
       "100    16.7\n",
       "83     13.6\n",
       "181    17.2\n",
       "71     12.4\n",
       "Name: Sales, dtype: float64"
      ]
     },
     "execution_count": 23,
     "metadata": {},
     "output_type": "execute_result"
    }
   ],
   "source": [
    "y_test"
   ]
  },
  {
   "cell_type": "markdown",
   "id": "43e7e328",
   "metadata": {},
   "source": [
    "##### step 3 creating model"
   ]
  },
  {
   "cell_type": "markdown",
   "id": "751987ee",
   "metadata": {},
   "source": [
    "# Linear Regression"
   ]
  },
  {
   "cell_type": "code",
   "execution_count": 24,
   "id": "da5b26b7",
   "metadata": {},
   "outputs": [],
   "source": [
    "from sklearn.linear_model import LinearRegression\n",
    "LR=LinearRegression()#object creation\n",
    "LR.fit(X_train,y_train) # trainig of model # fit = it fit it into the formula\n",
    "y_predict=LR.predict(X_test) # LR =model ,LinearRegression is the algorithms"
   ]
  },
  {
   "cell_type": "code",
   "execution_count": 25,
   "id": "c1513326",
   "metadata": {},
   "outputs": [
    {
     "data": {
      "text/plain": [
       "11     17.4\n",
       "99     17.2\n",
       "128    24.7\n",
       "175    27.0\n",
       "1      10.4\n",
       "111    21.8\n",
       "90     14.0\n",
       "177    16.7\n",
       "88     12.9\n",
       "187    17.3\n",
       "61     24.2\n",
       "199    18.4\n",
       "191    11.9\n",
       "123    15.2\n",
       "184    17.6\n",
       "188    20.9\n",
       "33     17.4\n",
       "171    17.5\n",
       "138     9.6\n",
       "84     21.7\n",
       "81     17.3\n",
       "102    19.8\n",
       "147    25.4\n",
       "34     11.9\n",
       "47     23.2\n",
       "124    19.7\n",
       "112    17.1\n",
       "6      11.8\n",
       "14     19.0\n",
       "190    10.8\n",
       "80     11.8\n",
       "18     11.3\n",
       "167    17.2\n",
       "45     16.1\n",
       "153    16.0\n",
       "119     6.6\n",
       "100    16.7\n",
       "83     13.6\n",
       "181    17.2\n",
       "71     12.4\n",
       "Name: Sales, dtype: float64"
      ]
     },
     "execution_count": 25,
     "metadata": {},
     "output_type": "execute_result"
    }
   ],
   "source": [
    "y_test #actual values"
   ]
  },
  {
   "cell_type": "code",
   "execution_count": 26,
   "id": "7fc4e467",
   "metadata": {},
   "outputs": [
    {
     "data": {
      "text/plain": [
       "array([18.83484186, 16.36985844, 21.71645826, 24.88649821, 11.13965825,\n",
       "       21.79572904, 12.46121948, 14.77982858, 12.17615532, 18.04926351,\n",
       "       23.41494873, 18.21269493,  9.83347643, 14.91158836, 20.75246805,\n",
       "       21.70973439, 21.21143002, 15.83902508,  9.63106988, 20.78172386,\n",
       "       18.22440746, 21.03259637, 23.05056141,  9.97710854, 22.04870952,\n",
       "       20.63323144, 15.8039098 , 11.1438683 , 19.24760852, 10.97744993,\n",
       "       11.55124042, 10.5096322 , 16.49276989, 16.55648843, 18.13127528,\n",
       "        7.3183334 , 17.3133353 , 12.97036072, 17.17083348, 12.12565091])"
      ]
     },
     "execution_count": 26,
     "metadata": {},
     "output_type": "execute_result"
    }
   ],
   "source": [
    "y_predict #values  predicted by model"
   ]
  },
  {
   "cell_type": "markdown",
   "id": "520a1df8",
   "metadata": {},
   "source": [
    "##### step 3 Model Evalution"
   ]
  },
  {
   "cell_type": "code",
   "execution_count": 27,
   "id": "a8f9fccb",
   "metadata": {},
   "outputs": [],
   "source": [
    "from sklearn.metrics import r2_score,mean_absolute_error\n",
    "r2score=r2_score(y_test,y_predict)\n",
    "#r2 is the matrix"
   ]
  },
  {
   "cell_type": "code",
   "execution_count": 28,
   "id": "e491e0ad",
   "metadata": {},
   "outputs": [
    {
     "data": {
      "text/plain": [
       "0.9045606387869707"
      ]
     },
     "execution_count": 28,
     "metadata": {},
     "output_type": "execute_result"
    }
   ],
   "source": [
    "r2score"
   ]
  },
  {
   "cell_type": "code",
   "execution_count": 29,
   "id": "abd50335",
   "metadata": {},
   "outputs": [
    {
     "data": {
      "text/plain": [
       "0.8972222222222223"
      ]
     },
     "execution_count": 29,
     "metadata": {},
     "output_type": "execute_result"
    }
   ],
   "source": [
    "#calculating the r2 adjusting\n",
    "adjusted_r2=1-(1-0.90)*(40-3)/(40-3-1)\n",
    "adjusted_r2"
   ]
  },
  {
   "cell_type": "code",
   "execution_count": 30,
   "id": "ff43c9fe",
   "metadata": {},
   "outputs": [
    {
     "name": "stdout",
     "output_type": "stream",
     "text": [
      "2.020636787138188\n"
     ]
    }
   ],
   "source": [
    "from sklearn.metrics import mean_squared_error,mean_absolute_error\n",
    "print(mean_squared_error(y_test,y_predict))"
   ]
  },
  {
   "cell_type": "code",
   "execution_count": 31,
   "id": "2b26f637",
   "metadata": {},
   "outputs": [
    {
     "name": "stdout",
     "output_type": "stream",
     "text": [
      "1.4214910436362898\n"
     ]
    }
   ],
   "source": [
    "#RMSE \n",
    "#Returns the mean squared error; we'll take a square root\n",
    "print(np.sqrt(mean_squared_error(y_test,y_predict)))\n"
   ]
  },
  {
   "cell_type": "markdown",
   "id": "ffca739a",
   "metadata": {},
   "source": [
    "#### Thus, overall we can interpret that the model is performing good with 90% of R2 and 89% of adjusted R2.\n",
    "\n"
   ]
  },
  {
   "cell_type": "markdown",
   "id": "56166e0f",
   "metadata": {},
   "source": [
    "# GB_Boosting"
   ]
  },
  {
   "cell_type": "code",
   "execution_count": 32,
   "id": "206e5154",
   "metadata": {},
   "outputs": [],
   "source": [
    "## importing the model library\n",
    "from sklearn.ensemble import GradientBoostingRegressor\n",
    "gbm=GradientBoostingRegressor() ## object creation\n",
    "gbm.fit(X_train,y_train) ## fitting the data\n",
    "y_gbm=gbm.predict(X_test)#predicting the price\n"
   ]
  },
  {
   "cell_type": "code",
   "execution_count": 33,
   "id": "4c6245de",
   "metadata": {},
   "outputs": [
    {
     "data": {
      "text/plain": [
       "(40, 3)"
      ]
     },
     "execution_count": 33,
     "metadata": {},
     "output_type": "execute_result"
    }
   ],
   "source": [
    "X_test.shape"
   ]
  },
  {
   "cell_type": "code",
   "execution_count": 34,
   "id": "a3707636",
   "metadata": {},
   "outputs": [
    {
     "data": {
      "text/plain": [
       "0.9163037226717882"
      ]
     },
     "execution_count": 34,
     "metadata": {},
     "output_type": "execute_result"
    }
   ],
   "source": [
    "r2score=r2_score(y_test,y_gbm)\n",
    "r2score"
   ]
  },
  {
   "cell_type": "code",
   "execution_count": 35,
   "id": "ad241de3",
   "metadata": {},
   "outputs": [
    {
     "data": {
      "text/plain": [
       "0.9075"
      ]
     },
     "execution_count": 35,
     "metadata": {},
     "output_type": "execute_result"
    }
   ],
   "source": [
    "#calculating the r2 adjusting\n",
    "adjusted_r2=1-(1-0.91)*(40-3)/(40-3-1)\n",
    "adjusted_r2"
   ]
  },
  {
   "cell_type": "markdown",
   "id": "4faf6369",
   "metadata": {},
   "source": [
    "#### Overall we can interpret that the model is performing good with 91% of R2 and 90% of adjusted R2.\n"
   ]
  },
  {
   "cell_type": "markdown",
   "id": "08604086",
   "metadata": {},
   "source": [
    "# KNN"
   ]
  },
  {
   "cell_type": "code",
   "execution_count": 36,
   "id": "371ede7f",
   "metadata": {},
   "outputs": [],
   "source": [
    "## splitting the training and testing data\n",
    "XK_train,XK_test,yK_train,yK_test=train_test_split(X,y,random_state=42)"
   ]
  },
  {
   "cell_type": "code",
   "execution_count": 37,
   "id": "0c516ceb",
   "metadata": {},
   "outputs": [
    {
     "name": "stdout",
     "output_type": "stream",
     "text": [
      "RMSE value for k=  1 is: 2.10304541082688\n",
      "RMSE value for k=  2 is: 1.754323231334522\n",
      "RMSE value for k=  3 is: 1.7355242563687905\n",
      "RMSE value for k=  4 is: 1.7580280145663205\n",
      "RMSE value for k=  5 is: 1.7720112866457705\n",
      "RMSE value for k=  6 is: 1.7706354791430106\n",
      "RMSE value for k=  7 is: 1.7246863068810094\n",
      "RMSE value for k=  8 is: 1.6878518151780977\n",
      "RMSE value for k=  9 is: 1.686993819831047\n",
      "RMSE value for k=  10 is: 1.7641984015410512\n",
      "RMSE value for k=  11 is: 1.7832647189498365\n",
      "RMSE value for k=  12 is: 1.8148301114245742\n",
      "RMSE value for k=  13 is: 1.814754779920032\n",
      "RMSE value for k=  14 is: 1.8411927700071302\n",
      "RMSE value for k=  15 is: 1.8615907176390836\n",
      "RMSE value for k=  16 is: 1.861294492416501\n",
      "RMSE value for k=  17 is: 1.8449495262270066\n",
      "RMSE value for k=  18 is: 1.826945774837756\n",
      "RMSE value for k=  19 is: 1.8205444986234591\n"
     ]
    }
   ],
   "source": [
    "## Error calculation for regression task\n",
    "from sklearn.neighbors import KNeighborsRegressor\n",
    "from sklearn.metrics import mean_squared_error\n",
    "\n",
    "rmse_val = [] #create list to store rmse values for different k\n",
    "for K in range(1,20):\n",
    "    \n",
    "    model = KNeighborsRegressor(n_neighbors = K)\n",
    "\n",
    "    model.fit(XK_train, yK_train)  #fit the model\n",
    "    pred=model.predict(XK_test) #make prediction on test set\n",
    "    error = np.sqrt(mean_squared_error(yK_test,pred)) #calculate rmse\n",
    "    rmse_val.append(error) #store rmse values\n",
    "    print('RMSE value for k= ' , K , 'is:', error)"
   ]
  },
  {
   "cell_type": "code",
   "execution_count": 38,
   "id": "a4dc32d4",
   "metadata": {},
   "outputs": [
    {
     "data": {
      "text/plain": [
       "0.8780782331303447"
      ]
     },
     "execution_count": 38,
     "metadata": {},
     "output_type": "execute_result"
    }
   ],
   "source": [
    "from sklearn.metrics import r2_score,mean_absolute_error\n",
    "r2score=r2_score(yK_test,pred)\n",
    "r2score"
   ]
  },
  {
   "cell_type": "code",
   "execution_count": 39,
   "id": "ed73790f",
   "metadata": {},
   "outputs": [
    {
     "data": {
      "text/plain": [
       "0.8663888888888889"
      ]
     },
     "execution_count": 39,
     "metadata": {},
     "output_type": "execute_result"
    }
   ],
   "source": [
    "#calculating the r2 adjusting\n",
    "adjusted_r2=1-(1-0.87)*(40-3)/(40-3-1)\n",
    "adjusted_r2"
   ]
  },
  {
   "cell_type": "code",
   "execution_count": 40,
   "id": "e5137a59",
   "metadata": {},
   "outputs": [
    {
     "name": "stdout",
     "output_type": "stream",
     "text": [
      "2.020636787138188\n",
      "1.8205444986234591\n"
     ]
    }
   ],
   "source": [
    "import math\n",
    "print(mean_squared_error(y_test,y_predict))\n",
    "\n",
    "print(math.sqrt(mean_squared_error(yK_test,pred)))"
   ]
  },
  {
   "cell_type": "markdown",
   "id": "bdf54652",
   "metadata": {},
   "source": [
    "#### Overall we can interpret that the model is performing good with 87% of R2 and 86% of adjusted R2.\n"
   ]
  },
  {
   "cell_type": "markdown",
   "id": "822e3b38",
   "metadata": {},
   "source": [
    "# SVM"
   ]
  },
  {
   "cell_type": "code",
   "execution_count": 41,
   "id": "8899baa6",
   "metadata": {},
   "outputs": [],
   "source": [
    "## creating training and testing data\n",
    "from sklearn.model_selection import train_test_split\n",
    "XS_train,XS_test,yS_train,yS_test=train_test_split(X, y,random_state=50)"
   ]
  },
  {
   "cell_type": "code",
   "execution_count": 42,
   "id": "3650157f",
   "metadata": {},
   "outputs": [
    {
     "data": {
      "text/plain": [
       "SVR()"
      ]
     },
     "execution_count": 42,
     "metadata": {},
     "output_type": "execute_result"
    }
   ],
   "source": [
    "# Support Vector Classifier Model\n",
    "\n",
    "from sklearn.svm import SVR\n",
    "svRegression = SVR() ## base model with default parameters ###onject creation\n",
    "svRegression.fit(XS_train, yS_train)#traning of the classifier"
   ]
  },
  {
   "cell_type": "code",
   "execution_count": 43,
   "id": "9bce9e78",
   "metadata": {},
   "outputs": [],
   "source": [
    "# Predict output for X_test\n",
    "y_hat=svRegression.predict(XS_test)"
   ]
  },
  {
   "cell_type": "code",
   "execution_count": 44,
   "id": "65a71a36",
   "metadata": {},
   "outputs": [
    {
     "data": {
      "text/plain": [
       "0.8634885496314014"
      ]
     },
     "execution_count": 44,
     "metadata": {},
     "output_type": "execute_result"
    }
   ],
   "source": [
    "from sklearn.metrics import r2_score,mean_absolute_error\n",
    "r2score=r2_score(yS_test,y_hat)\n",
    "r2score"
   ]
  },
  {
   "cell_type": "markdown",
   "id": "5d057417",
   "metadata": {},
   "source": [
    "Applying GradientBoosting"
   ]
  },
  {
   "cell_type": "code",
   "execution_count": 47,
   "id": "84149226",
   "metadata": {},
   "outputs": [],
   "source": [
    "## importing the model library\n",
    "from sklearn.ensemble import GradientBoostingRegressor\n",
    "gbm=GradientBoostingRegressor() ## object creation\n",
    "gbm.fit(XS_train,yS_train) ## fitting the data\n",
    "y_gbm=gbm.predict(XS_test)#predicting the price\n"
   ]
  },
  {
   "cell_type": "code",
   "execution_count": 48,
   "id": "c95d8bac",
   "metadata": {},
   "outputs": [
    {
     "data": {
      "text/plain": [
       "0.9205720226123543"
      ]
     },
     "execution_count": 48,
     "metadata": {},
     "output_type": "execute_result"
    }
   ],
   "source": [
    "r2score=r2_score(yS_test,y_gbm)\n",
    "r2score"
   ]
  },
  {
   "cell_type": "code",
   "execution_count": 49,
   "id": "fbe2c039",
   "metadata": {},
   "outputs": [
    {
     "data": {
      "text/plain": [
       "0.9177777777777778"
      ]
     },
     "execution_count": 49,
     "metadata": {},
     "output_type": "execute_result"
    }
   ],
   "source": [
    "#calculating the r2 adjusting\n",
    "adjusted_r2=1-(1-0.92)*(40-3)/(40-3-1)\n",
    "adjusted_r2"
   ]
  },
  {
   "cell_type": "markdown",
   "id": "b69d8d8e",
   "metadata": {},
   "source": [
    "#### Overall we can interpret that the model is performing good with 92% of R2 and 91% of adjusted R2.\n"
   ]
  },
  {
   "cell_type": "markdown",
   "id": "98073c9b",
   "metadata": {},
   "source": [
    "# Decision Tree"
   ]
  },
  {
   "cell_type": "code",
   "execution_count": 50,
   "id": "8633674c",
   "metadata": {},
   "outputs": [
    {
     "data": {
      "text/plain": [
       "array([17. , 16. , 23.8, 25.4, 10.1, 22.1, 11. , 17.6, 13.3, 18.4, 25.4,\n",
       "       18.2, 11.3, 16. , 20.9, 20. , 20.9, 16.4, 10.1, 22.6, 17. , 16.1,\n",
       "       23.8, 14. , 22.1, 19.6, 16.4, 10.1, 18.3, 11. , 12.6, 11.3, 15.6,\n",
       "       16.6, 18. ,  6.7, 16.4, 14.7, 15.6, 11.9])"
      ]
     },
     "execution_count": 50,
     "metadata": {},
     "output_type": "execute_result"
    }
   ],
   "source": [
    "from sklearn.tree import DecisionTreeRegressor\n",
    "#importing decision tree from sklearn.tree\n",
    "dt=DecisionTreeRegressor()\n",
    "#object creation for decision tree  \n",
    "dt.fit(X_train,y_train)\n",
    "#training the model\n",
    "y_hat1=dt.predict(X_test)#prediction\n",
    "y_hat1#predicted values "
   ]
  },
  {
   "cell_type": "code",
   "execution_count": 51,
   "id": "84926080",
   "metadata": {},
   "outputs": [
    {
     "data": {
      "text/plain": [
       "0.9026069583242682"
      ]
     },
     "execution_count": 51,
     "metadata": {},
     "output_type": "execute_result"
    }
   ],
   "source": [
    "from sklearn.metrics import r2_score,mean_absolute_error\n",
    "r2score=r2_score(y_test,y_hat1)\n",
    "r2score"
   ]
  },
  {
   "cell_type": "code",
   "execution_count": 52,
   "id": "67ce3938",
   "metadata": {},
   "outputs": [
    {
     "data": {
      "text/plain": [
       "0.9075"
      ]
     },
     "execution_count": 52,
     "metadata": {},
     "output_type": "execute_result"
    }
   ],
   "source": [
    "#calculating the r2 adjusting\n",
    "adjusted_r2=1-(1-0.91)*(40-3)/(40-3-1)\n",
    "adjusted_r2"
   ]
  },
  {
   "cell_type": "markdown",
   "id": "f926daba",
   "metadata": {},
   "source": [
    "#### Overall we can interpret that the model is performing good with 90% of R2 and 90% of adjusted R2.\n"
   ]
  },
  {
   "cell_type": "markdown",
   "id": "5139fed1",
   "metadata": {},
   "source": [
    "# RandomForest"
   ]
  },
  {
   "cell_type": "code",
   "execution_count": 53,
   "id": "9f44f378",
   "metadata": {},
   "outputs": [
    {
     "data": {
      "text/plain": [
       "RandomForestRegressor()"
      ]
     },
     "execution_count": 53,
     "metadata": {},
     "output_type": "execute_result"
    }
   ],
   "source": [
    "from sklearn.ensemble import RandomForestRegressor #importing randomforest\n",
    "\n",
    "rf_clf = RandomForestRegressor(n_estimators=100)#object creation ,taking 100 decision tree in random forest \n",
    "rf_clf.fit(X_train,y_train)#training the data"
   ]
  },
  {
   "cell_type": "code",
   "execution_count": 54,
   "id": "28f7b217",
   "metadata": {},
   "outputs": [],
   "source": [
    "yy_predict=rf_clf.predict(X_test)#testing"
   ]
  },
  {
   "cell_type": "code",
   "execution_count": 55,
   "id": "3ede80ff",
   "metadata": {},
   "outputs": [
    {
     "data": {
      "text/plain": [
       "0.9391180592476305"
      ]
     },
     "execution_count": 55,
     "metadata": {},
     "output_type": "execute_result"
    }
   ],
   "source": [
    "from sklearn.metrics import r2_score,mean_absolute_error\n",
    "r2score=r2_score(y_test,yy_predict)\n",
    "r2score"
   ]
  },
  {
   "cell_type": "code",
   "execution_count": 56,
   "id": "3a6511d1",
   "metadata": {},
   "outputs": [
    {
     "data": {
      "text/plain": [
       "0.9280555555555556"
      ]
     },
     "execution_count": 56,
     "metadata": {},
     "output_type": "execute_result"
    }
   ],
   "source": [
    "#calculating the r2 adjusting\n",
    "adjusted_r2=1-(1-0.93)*(40-3)/(40-3-1)\n",
    "adjusted_r2"
   ]
  },
  {
   "cell_type": "code",
   "execution_count": 57,
   "id": "769e6639",
   "metadata": {},
   "outputs": [
    {
     "data": {
      "text/plain": [
       "1.1353365250004075"
      ]
     },
     "execution_count": 57,
     "metadata": {},
     "output_type": "execute_result"
    }
   ],
   "source": [
    "#Returns the mean squared error; we'll take a square root\n",
    "np.sqrt(mean_squared_error(y_test, yy_predict))\n"
   ]
  },
  {
   "cell_type": "markdown",
   "id": "7121b2f6",
   "metadata": {},
   "source": [
    "#### Overall we can interpret that the model is performing good with 93% of R2 and 92% of adjusted R2.\n"
   ]
  },
  {
   "cell_type": "markdown",
   "id": "8d76d860",
   "metadata": {},
   "source": [
    "### Result\n",
    "\n",
    "\n",
    "| Model               | R2 Score | Adjusted R2 Score  |\n",
    "|-------------------- |----------|--------------------|\n",
    "| Linear Regression   | 90%      | 89%                | \n",
    "| KNN                 | 87%      | 86%                |\n",
    "| SVM                 | 92%      | 91%                | \n",
    "| Decision Tree       | 90%      | 90%                |\n",
    "| Random Forest       | 93%      | 92%                |\n",
    "| GBoost              | 91%      | 90%                |"
   ]
  },
  {
   "cell_type": "markdown",
   "id": "f612cc1c",
   "metadata": {},
   "source": [
    "#### While comparing the model, we find that All the model are performing well but Random forest is giving the highest score, which concludes that it has the highest accuracy among the other models.\n",
    "\n",
    "#### Overall, machine learning can be a powerful tool for predicting sales and improving business outcomes. Whether you are using regression analysis, time series analysis, decision tree-based algorithms or neural networks, machine learning can help you make more accurate predictions and take action to improve your sales.\n",
    "\n"
   ]
  },
  {
   "cell_type": "code",
   "execution_count": null,
   "id": "46454388",
   "metadata": {},
   "outputs": [],
   "source": []
  },
  {
   "cell_type": "code",
   "execution_count": null,
   "id": "cf0ce150",
   "metadata": {},
   "outputs": [],
   "source": []
  }
 ],
 "metadata": {
  "kernelspec": {
   "display_name": "Python 3 (ipykernel)",
   "language": "python",
   "name": "python3"
  },
  "language_info": {
   "codemirror_mode": {
    "name": "ipython",
    "version": 3
   },
   "file_extension": ".py",
   "mimetype": "text/x-python",
   "name": "python",
   "nbconvert_exporter": "python",
   "pygments_lexer": "ipython3",
   "version": "3.9.13"
  }
 },
 "nbformat": 4,
 "nbformat_minor": 5
}
